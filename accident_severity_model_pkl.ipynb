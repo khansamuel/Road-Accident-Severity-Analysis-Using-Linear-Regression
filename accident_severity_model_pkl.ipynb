{
  "nbformat": 4,
  "nbformat_minor": 0,
  "metadata": {
    "colab": {
      "provenance": [],
      "authorship_tag": "ABX9TyNMtCYMJTzJNVkCfL/0G1UP",
      "include_colab_link": true
    },
    "kernelspec": {
      "name": "python3",
      "display_name": "Python 3"
    },
    "language_info": {
      "name": "python"
    }
  },
  "cells": [
    {
      "cell_type": "markdown",
      "metadata": {
        "id": "view-in-github",
        "colab_type": "text"
      },
      "source": [
        "<a href=\"https://colab.research.google.com/github/khansamuel/Road-Accident-Severity-Analysis-Using-Linear-Regression/blob/main/accident_severity_model_pkl.ipynb\" target=\"_parent\"><img src=\"https://colab.research.google.com/assets/colab-badge.svg\" alt=\"Open In Colab\"/></a>"
      ]
    },
    {
      "cell_type": "code",
      "source": [],
      "metadata": {
        "id": "_mrevFjyeLJ-"
      },
      "execution_count": null,
      "outputs": []
    },
    {
      "cell_type": "code",
      "source": [
        "# Import necessary libraries\n",
        "import pandas as pd\n",
        "\n",
        "# Load the dataset\n",
        "# For demonstration, we'll create a sample dataset\n",
        "data = {\n",
        "    'Weather': ['Clear', 'Rainy', 'Clear', 'Foggy', 'Rainy'],\n",
        "    'Road_Type': ['Highway', 'City', 'Highway', 'City', 'Highway'],\n",
        "    'Vehicle_Type': ['Car', 'Truck', 'Car', 'Car', 'Truck'],\n",
        "    'Driver_Age': [25, 45, 30, 22, 35],\n",
        "    'Accident_Severity': [2, 3, 1, 2, 3]  # Dependent variable\n",
        "}\n",
        "\n",
        "df = pd.DataFrame(data)\n",
        "print(df)"
      ],
      "metadata": {
        "colab": {
          "base_uri": "https://localhost:8080/"
        },
        "id": "78sKAkvceRkf",
        "outputId": "79137fce-d601-4e03-fe3d-1fe9327cdb52"
      },
      "execution_count": 3,
      "outputs": [
        {
          "output_type": "stream",
          "name": "stdout",
          "text": [
            "  Weather Road_Type Vehicle_Type  Driver_Age  Accident_Severity\n",
            "0   Clear   Highway          Car          25                  2\n",
            "1   Rainy      City        Truck          45                  3\n",
            "2   Clear   Highway          Car          30                  1\n",
            "3   Foggy      City          Car          22                  2\n",
            "4   Rainy   Highway        Truck          35                  3\n"
          ]
        }
      ]
    },
    {
      "cell_type": "code",
      "execution_count": 4,
      "metadata": {
        "id": "TM-hcsLGUiK9",
        "colab": {
          "base_uri": "https://localhost:8080/"
        },
        "outputId": "4bd427e8-cb54-47f9-9707-2c027444024e"
      },
      "outputs": [
        {
          "output_type": "stream",
          "name": "stdout",
          "text": [
            "   Driver_Age  Accident_Severity  Weather_Foggy  Weather_Rainy  \\\n",
            "0          25                  2          False          False   \n",
            "1          45                  3          False           True   \n",
            "2          30                  1          False          False   \n",
            "3          22                  2           True          False   \n",
            "4          35                  3          False           True   \n",
            "\n",
            "   Road_Type_Highway  Vehicle_Type_Truck  \n",
            "0               True               False  \n",
            "1              False                True  \n",
            "2               True               False  \n",
            "3              False               False  \n",
            "4               True                True  \n"
          ]
        }
      ],
      "source": [
        "# Encode categorical variables\n",
        "df_encoded = pd.get_dummies(df, columns=['Weather', 'Road_Type', 'Vehicle_Type'], drop_first=True)\n",
        "\n",
        "# Display the encoded dataframe\n",
        "print(df_encoded)"
      ]
    },
    {
      "cell_type": "code",
      "source": [
        "from sklearn.model_selection import train_test_split\n",
        "from sklearn.linear_model import LinearRegression\n",
        "import joblib\n",
        "\n",
        "# Split the data into training and testing sets\n",
        "X = df_encoded.drop('Accident_Severity', axis=1)\n",
        "y = df_encoded['Accident_Severity']\n",
        "X_train, X_test, y_train, y_test = train_test_split(X, y, test_size=0.2, random_state=42)\n",
        "\n",
        "# Create and train the linear regression model\n",
        "model = LinearRegression()\n",
        "model.fit(X_train, y_train)\n",
        "\n",
        "# Save the model\n",
        "joblib.dump(model, 'accident_severity_model.pkl')\n",
        "print(\"Model saved as 'accident_severity_model.pkl'\")"
      ],
      "metadata": {
        "colab": {
          "base_uri": "https://localhost:8080/"
        },
        "id": "1m1ftUHMeJOb",
        "outputId": "78ab0e03-1662-45d1-e5e2-9b7b112f754e"
      },
      "execution_count": 5,
      "outputs": [
        {
          "output_type": "stream",
          "name": "stdout",
          "text": [
            "Model saved as 'accident_severity_model.pkl'\n"
          ]
        }
      ]
    },
    {
      "cell_type": "code",
      "source": [
        "import joblib # Use joblib instead of pickle\n",
        "import pandas as pd\n",
        "\n",
        "\n",
        "# Load the model using joblib.load\n",
        "loaded_model = joblib.load('accident_severity_model.pkl')\n",
        "\n",
        "\n",
        "# Hypothetical data for prediction (adjust column names)\n",
        "hypothetical_data = pd.DataFrame({\n",
        "    'Driver_Age': [30],\n",
        "    'Weather_Foggy': [0],  # Assuming not foggy\n",
        "    'Weather_Rainy': [0],  # Assuming not rainy\n",
        "    'Road_Type_Highway': [0],# Assuming not Highway\n",
        "    'Vehicle_Type_Truck': [0] #Assuming not Truck\n",
        "})\n",
        "\n",
        "# Predict accident severity\n",
        "predicted_severity = loaded_model.predict(hypothetical_data)\n",
        "print(\"Predicted Accident Severity:\", predicted_severity[0])"
      ],
      "metadata": {
        "colab": {
          "base_uri": "https://localhost:8080/"
        },
        "id": "FVJhAl7ufV5Y",
        "outputId": "bfb710bf-0857-4d9f-bdd2-3234183b7cd2"
      },
      "execution_count": 9,
      "outputs": [
        {
          "output_type": "stream",
          "name": "stdout",
          "text": [
            "Predicted Accident Severity: 0.6999999999999993\n"
          ]
        }
      ]
    }
  ]
}